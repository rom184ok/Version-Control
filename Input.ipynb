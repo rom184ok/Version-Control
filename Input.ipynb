{
 "cells": [
  {
   "cell_type": "code",
   "execution_count": 1,
   "id": "a1c25121-c709-49ce-9a05-63cddcbdb7fd",
   "metadata": {},
   "outputs": [
    {
     "name": "stdin",
     "output_type": "stream",
     "text": [
      "What's your name?  Roheet\n",
      "What's your favorite color?  blue\n"
     ]
    },
    {
     "name": "stdout",
     "output_type": "stream",
     "text": [
      "Hello, Roheet! Your favorite color is blue. Isn't it beautiful?\n"
     ]
    }
   ],
   "source": [
    "name = input(\"What's your name? \")\n",
    "\n",
    "# Input for favorite color\n",
    "color = input(\"What's your favorite color? \")\n",
    "\n",
    "# Output a personalized greeting\n",
    "print(f\"Hello, {name}! Your favorite color is {color}. Isn't it beautiful?\")\n"
   ]
  },
  {
   "cell_type": "code",
   "execution_count": null,
   "id": "18b0b94a-ef87-40a7-9186-2251ba0d7287",
   "metadata": {},
   "outputs": [],
   "source": []
  }
 ],
 "metadata": {
  "kernelspec": {
   "display_name": "Python 3 (ipykernel)",
   "language": "python",
   "name": "python3"
  },
  "language_info": {
   "codemirror_mode": {
    "name": "ipython",
    "version": 3
   },
   "file_extension": ".py",
   "mimetype": "text/x-python",
   "name": "python",
   "nbconvert_exporter": "python",
   "pygments_lexer": "ipython3",
   "version": "3.12.4"
  }
 },
 "nbformat": 4,
 "nbformat_minor": 5
}
